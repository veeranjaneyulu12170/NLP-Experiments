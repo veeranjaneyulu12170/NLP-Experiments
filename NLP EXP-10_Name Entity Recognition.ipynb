{
 "cells": [
  {
   "cell_type": "code",
   "execution_count": 1,
   "id": "ead2dcff",
   "metadata": {},
   "outputs": [],
   "source": [
    "import nltk\n",
    "from nltk.corpus import stopwords\n",
    "from nltk.tokenize import word_tokenize\n",
    "from nltk.stem import PorterStemmer, WordNetLemmatizer\n",
    "from nltk import ne_chunk"
   ]
  },
  {
   "cell_type": "code",
   "execution_count": 2,
   "id": "7fb60106",
   "metadata": {},
   "outputs": [
    {
     "name": "stderr",
     "output_type": "stream",
     "text": [
      "[nltk_data] Downloading package punkt to\n",
      "[nltk_data]     /Users/rashazrafeeque/nltk_data...\n",
      "[nltk_data]   Package punkt is already up-to-date!\n",
      "[nltk_data] Downloading package wordnet to\n",
      "[nltk_data]     /Users/rashazrafeeque/nltk_data...\n",
      "[nltk_data]   Package wordnet is already up-to-date!\n",
      "[nltk_data] Downloading package stopwords to\n",
      "[nltk_data]     /Users/rashazrafeeque/nltk_data...\n",
      "[nltk_data]   Package stopwords is already up-to-date!\n",
      "[nltk_data] Downloading package averaged_perceptron_tagger to\n",
      "[nltk_data]     /Users/rashazrafeeque/nltk_data...\n",
      "[nltk_data]   Package averaged_perceptron_tagger is already up-to-\n",
      "[nltk_data]       date!\n",
      "[nltk_data] Downloading package maxent_ne_chunker to\n",
      "[nltk_data]     /Users/rashazrafeeque/nltk_data...\n",
      "[nltk_data]   Package maxent_ne_chunker is already up-to-date!\n",
      "[nltk_data] Downloading package words to\n",
      "[nltk_data]     /Users/rashazrafeeque/nltk_data...\n",
      "[nltk_data]   Package words is already up-to-date!\n"
     ]
    },
    {
     "data": {
      "text/plain": [
       "True"
      ]
     },
     "execution_count": 2,
     "metadata": {},
     "output_type": "execute_result"
    }
   ],
   "source": [
    "nltk.download('punkt')\n",
    "nltk.download('wordnet')\n",
    "nltk.download('stopwords')\n",
    "nltk.download('averaged_perceptron_tagger')\n",
    "nltk.download('maxent_ne_chunker')\n",
    "nltk.download('words')"
   ]
  },
  {
   "cell_type": "code",
   "execution_count": 3,
   "id": "11c73dd4",
   "metadata": {},
   "outputs": [],
   "source": [
    "text = \"\"\"\n",
    "Once upon a time, in a faraway kingdom, there lived a beautiful princess named Cinderella. \n",
    "She had two stepsisters who were jealous of her beauty. Despite the hardships, Cinderella \n",
    "remained kind-hearted and hopeful. One day, a grand ball was announced in the palace, and \n",
    "Cinderella dreamt of attending it. With the help of her fairy godmother, she got her wish \n",
    "and went to the ball. There, she met the charming prince, and they danced the night away. \n",
    "But as the clock struck midnight, Cinderella had to flee, leaving behind her glass slipper. \n",
    "The prince searched the kingdom to find the owner of the glass slipper. Eventually, he found \n",
    "Cinderella, and they lived happily ever after.\n",
    "\"\"\""
   ]
  },
  {
   "cell_type": "code",
   "execution_count": 4,
   "id": "1dbbe3da",
   "metadata": {},
   "outputs": [],
   "source": [
    "tokens = word_tokenize(text)"
   ]
  },
  {
   "cell_type": "code",
   "execution_count": 5,
   "id": "346ba295",
   "metadata": {},
   "outputs": [],
   "source": [
    "stemmer = PorterStemmer()\n",
    "stemmed_tokens = [stemmer.stem(token) for token in tokens]"
   ]
  },
  {
   "cell_type": "code",
   "execution_count": 6,
   "id": "d3645335",
   "metadata": {},
   "outputs": [],
   "source": [
    "lemmatizer = WordNetLemmatizer()\n",
    "lemmatized_tokens = [lemmatizer.lemmatize(token) for token in tokens]"
   ]
  },
  {
   "cell_type": "code",
   "execution_count": 7,
   "id": "2e704df3",
   "metadata": {},
   "outputs": [],
   "source": [
    "stop_words = set(stopwords.words('english'))\n",
    "filtered_tokens = [token for token in tokens if token.lower() not in stop_words]"
   ]
  },
  {
   "cell_type": "code",
   "execution_count": 8,
   "id": "a06526ec",
   "metadata": {},
   "outputs": [],
   "source": [
    "pos_tags = nltk.pos_tag(tokens)"
   ]
  },
  {
   "cell_type": "code",
   "execution_count": 9,
   "id": "fa257deb",
   "metadata": {},
   "outputs": [],
   "source": [
    "ner_tags = ne_chunk(pos_tags)"
   ]
  },
  {
   "cell_type": "code",
   "execution_count": 10,
   "id": "e0e3ff64",
   "metadata": {},
   "outputs": [
    {
     "name": "stdout",
     "output_type": "stream",
     "text": [
      "Tokens: ['Once', 'upon', 'a', 'time', ',', 'in', 'a', 'faraway', 'kingdom', ',', 'there', 'lived', 'a', 'beautiful', 'princess', 'named', 'Cinderella', '.', 'She', 'had', 'two', 'stepsisters', 'who', 'were', 'jealous', 'of', 'her', 'beauty', '.', 'Despite', 'the', 'hardships', ',', 'Cinderella', 'remained', 'kind-hearted', 'and', 'hopeful', '.', 'One', 'day', ',', 'a', 'grand', 'ball', 'was', 'announced', 'in', 'the', 'palace', ',', 'and', 'Cinderella', 'dreamt', 'of', 'attending', 'it', '.', 'With', 'the', 'help', 'of', 'her', 'fairy', 'godmother', ',', 'she', 'got', 'her', 'wish', 'and', 'went', 'to', 'the', 'ball', '.', 'There', ',', 'she', 'met', 'the', 'charming', 'prince', ',', 'and', 'they', 'danced', 'the', 'night', 'away', '.', 'But', 'as', 'the', 'clock', 'struck', 'midnight', ',', 'Cinderella', 'had', 'to', 'flee', ',', 'leaving', 'behind', 'her', 'glass', 'slipper', '.', 'The', 'prince', 'searched', 'the', 'kingdom', 'to', 'find', 'the', 'owner', 'of', 'the', 'glass', 'slipper', '.', 'Eventually', ',', 'he', 'found', 'Cinderella', ',', 'and', 'they', 'lived', 'happily', 'ever', 'after', '.']\n"
     ]
    }
   ],
   "source": [
    "print(\"Tokens:\", tokens)"
   ]
  },
  {
   "cell_type": "code",
   "execution_count": 11,
   "id": "de6c7113",
   "metadata": {},
   "outputs": [
    {
     "name": "stdout",
     "output_type": "stream",
     "text": [
      "Stemmed Tokens: ['onc', 'upon', 'a', 'time', ',', 'in', 'a', 'faraway', 'kingdom', ',', 'there', 'live', 'a', 'beauti', 'princess', 'name', 'cinderella', '.', 'she', 'had', 'two', 'stepsist', 'who', 'were', 'jealou', 'of', 'her', 'beauti', '.', 'despit', 'the', 'hardship', ',', 'cinderella', 'remain', 'kind-heart', 'and', 'hope', '.', 'one', 'day', ',', 'a', 'grand', 'ball', 'wa', 'announc', 'in', 'the', 'palac', ',', 'and', 'cinderella', 'dreamt', 'of', 'attend', 'it', '.', 'with', 'the', 'help', 'of', 'her', 'fairi', 'godmoth', ',', 'she', 'got', 'her', 'wish', 'and', 'went', 'to', 'the', 'ball', '.', 'there', ',', 'she', 'met', 'the', 'charm', 'princ', ',', 'and', 'they', 'danc', 'the', 'night', 'away', '.', 'but', 'as', 'the', 'clock', 'struck', 'midnight', ',', 'cinderella', 'had', 'to', 'flee', ',', 'leav', 'behind', 'her', 'glass', 'slipper', '.', 'the', 'princ', 'search', 'the', 'kingdom', 'to', 'find', 'the', 'owner', 'of', 'the', 'glass', 'slipper', '.', 'eventu', ',', 'he', 'found', 'cinderella', ',', 'and', 'they', 'live', 'happili', 'ever', 'after', '.']\n"
     ]
    }
   ],
   "source": [
    "print(\"Stemmed Tokens:\", stemmed_tokens)"
   ]
  },
  {
   "cell_type": "code",
   "execution_count": 12,
   "id": "8101f74b",
   "metadata": {},
   "outputs": [
    {
     "name": "stdout",
     "output_type": "stream",
     "text": [
      "Lemmatized Tokens: ['Once', 'upon', 'a', 'time', ',', 'in', 'a', 'faraway', 'kingdom', ',', 'there', 'lived', 'a', 'beautiful', 'princess', 'named', 'Cinderella', '.', 'She', 'had', 'two', 'stepsister', 'who', 'were', 'jealous', 'of', 'her', 'beauty', '.', 'Despite', 'the', 'hardship', ',', 'Cinderella', 'remained', 'kind-hearted', 'and', 'hopeful', '.', 'One', 'day', ',', 'a', 'grand', 'ball', 'wa', 'announced', 'in', 'the', 'palace', ',', 'and', 'Cinderella', 'dreamt', 'of', 'attending', 'it', '.', 'With', 'the', 'help', 'of', 'her', 'fairy', 'godmother', ',', 'she', 'got', 'her', 'wish', 'and', 'went', 'to', 'the', 'ball', '.', 'There', ',', 'she', 'met', 'the', 'charming', 'prince', ',', 'and', 'they', 'danced', 'the', 'night', 'away', '.', 'But', 'a', 'the', 'clock', 'struck', 'midnight', ',', 'Cinderella', 'had', 'to', 'flee', ',', 'leaving', 'behind', 'her', 'glass', 'slipper', '.', 'The', 'prince', 'searched', 'the', 'kingdom', 'to', 'find', 'the', 'owner', 'of', 'the', 'glass', 'slipper', '.', 'Eventually', ',', 'he', 'found', 'Cinderella', ',', 'and', 'they', 'lived', 'happily', 'ever', 'after', '.']\n"
     ]
    }
   ],
   "source": [
    "print(\"Lemmatized Tokens:\", lemmatized_tokens)"
   ]
  },
  {
   "cell_type": "code",
   "execution_count": 13,
   "id": "53ac52a9",
   "metadata": {},
   "outputs": [
    {
     "name": "stdout",
     "output_type": "stream",
     "text": [
      "Filtered Tokens : ['upon', 'time', ',', 'faraway', 'kingdom', ',', 'lived', 'beautiful', 'princess', 'named', 'Cinderella', '.', 'two', 'stepsisters', 'jealous', 'beauty', '.', 'Despite', 'hardships', ',', 'Cinderella', 'remained', 'kind-hearted', 'hopeful', '.', 'One', 'day', ',', 'grand', 'ball', 'announced', 'palace', ',', 'Cinderella', 'dreamt', 'attending', '.', 'help', 'fairy', 'godmother', ',', 'got', 'wish', 'went', 'ball', '.', ',', 'met', 'charming', 'prince', ',', 'danced', 'night', 'away', '.', 'clock', 'struck', 'midnight', ',', 'Cinderella', 'flee', ',', 'leaving', 'behind', 'glass', 'slipper', '.', 'prince', 'searched', 'kingdom', 'find', 'owner', 'glass', 'slipper', '.', 'Eventually', ',', 'found', 'Cinderella', ',', 'lived', 'happily', 'ever', '.']\n"
     ]
    }
   ],
   "source": [
    "print(\"Filtered Tokens :\", filtered_tokens)"
   ]
  },
  {
   "cell_type": "code",
   "execution_count": 14,
   "id": "7c91b5ba",
   "metadata": {},
   "outputs": [
    {
     "name": "stdout",
     "output_type": "stream",
     "text": [
      "Part-of-Speech Tags: [('Once', 'RB'), ('upon', 'IN'), ('a', 'DT'), ('time', 'NN'), (',', ','), ('in', 'IN'), ('a', 'DT'), ('faraway', 'NN'), ('kingdom', 'NN'), (',', ','), ('there', 'EX'), ('lived', 'VBD'), ('a', 'DT'), ('beautiful', 'JJ'), ('princess', 'NN'), ('named', 'VBN'), ('Cinderella', 'NNP'), ('.', '.'), ('She', 'PRP'), ('had', 'VBD'), ('two', 'CD'), ('stepsisters', 'NNS'), ('who', 'WP'), ('were', 'VBD'), ('jealous', 'JJ'), ('of', 'IN'), ('her', 'PRP$'), ('beauty', 'NN'), ('.', '.'), ('Despite', 'IN'), ('the', 'DT'), ('hardships', 'NNS'), (',', ','), ('Cinderella', 'NNP'), ('remained', 'VBD'), ('kind-hearted', 'JJ'), ('and', 'CC'), ('hopeful', 'JJ'), ('.', '.'), ('One', 'CD'), ('day', 'NN'), (',', ','), ('a', 'DT'), ('grand', 'JJ'), ('ball', 'NN'), ('was', 'VBD'), ('announced', 'VBN'), ('in', 'IN'), ('the', 'DT'), ('palace', 'NN'), (',', ','), ('and', 'CC'), ('Cinderella', 'NNP'), ('dreamt', 'NN'), ('of', 'IN'), ('attending', 'VBG'), ('it', 'PRP'), ('.', '.'), ('With', 'IN'), ('the', 'DT'), ('help', 'NN'), ('of', 'IN'), ('her', 'PRP$'), ('fairy', 'NN'), ('godmother', 'NN'), (',', ','), ('she', 'PRP'), ('got', 'VBD'), ('her', 'PRP'), ('wish', 'NN'), ('and', 'CC'), ('went', 'VBD'), ('to', 'TO'), ('the', 'DT'), ('ball', 'NN'), ('.', '.'), ('There', 'EX'), (',', ','), ('she', 'PRP'), ('met', 'VBD'), ('the', 'DT'), ('charming', 'VBG'), ('prince', 'NN'), (',', ','), ('and', 'CC'), ('they', 'PRP'), ('danced', 'VBD'), ('the', 'DT'), ('night', 'NN'), ('away', 'RB'), ('.', '.'), ('But', 'CC'), ('as', 'IN'), ('the', 'DT'), ('clock', 'NN'), ('struck', 'VBD'), ('midnight', 'NN'), (',', ','), ('Cinderella', 'NNP'), ('had', 'VBD'), ('to', 'TO'), ('flee', 'VB'), (',', ','), ('leaving', 'VBG'), ('behind', 'IN'), ('her', 'PRP'), ('glass', 'NN'), ('slipper', 'NN'), ('.', '.'), ('The', 'DT'), ('prince', 'NN'), ('searched', 'VBD'), ('the', 'DT'), ('kingdom', 'NN'), ('to', 'TO'), ('find', 'VB'), ('the', 'DT'), ('owner', 'NN'), ('of', 'IN'), ('the', 'DT'), ('glass', 'NN'), ('slipper', 'NN'), ('.', '.'), ('Eventually', 'RB'), (',', ','), ('he', 'PRP'), ('found', 'VBD'), ('Cinderella', 'NNP'), (',', ','), ('and', 'CC'), ('they', 'PRP'), ('lived', 'VBD'), ('happily', 'RB'), ('ever', 'RB'), ('after', 'IN'), ('.', '.')]\n"
     ]
    }
   ],
   "source": [
    "print(\"Part-of-Speech Tags:\", pos_tags)"
   ]
  },
  {
   "cell_type": "code",
   "execution_count": 16,
   "id": "e822dd30",
   "metadata": {},
   "outputs": [
    {
     "name": "stdout",
     "output_type": "stream",
     "text": [
      "Named Entities:\n",
      "PERSON Cinderella\n",
      "PERSON Cinderella\n",
      "ORGANIZATION Cinderella\n",
      "PERSON Cinderella\n",
      "PERSON Cinderella\n"
     ]
    }
   ],
   "source": [
    "ner_tags = ne_chunk(pos_tags)\n",
    "print(\"Named Entities:\")\n",
    "for chunk in ner_tags:\n",
    "    if hasattr(chunk, 'label'):\n",
    "        print(chunk.label(), ' '.join(c[0] for c in chunk))"
   ]
  }
 ],
 "metadata": {
  "kernelspec": {
   "display_name": "Python 3 (ipykernel)",
   "language": "python",
   "name": "python3"
  },
  "language_info": {
   "codemirror_mode": {
    "name": "ipython",
    "version": 3
   },
   "file_extension": ".py",
   "mimetype": "text/x-python",
   "name": "python",
   "nbconvert_exporter": "python",
   "pygments_lexer": "ipython3",
   "version": "3.11.5"
  }
 },
 "nbformat": 4,
 "nbformat_minor": 5
}
