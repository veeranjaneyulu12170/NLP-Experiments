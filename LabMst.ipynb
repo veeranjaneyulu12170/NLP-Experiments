{
  "cells": [
    {
      "cell_type": "markdown",
      "metadata": {
        "id": "view-in-github",
        "colab_type": "text"
      },
      "source": [
        "<a href=\"https://colab.research.google.com/github/LEOFRANKLIN2003/NLP/blob/main/LabMst.ipynb\" target=\"_parent\"><img src=\"https://colab.research.google.com/assets/colab-badge.svg\" alt=\"Open In Colab\"/></a>"
      ]
    },
    {
      "cell_type": "code",
      "execution_count": null,
      "metadata": {
        "id": "hwhQfhETiTn9"
      },
      "outputs": [],
      "source": [
        "import nltk\n",
        "from nltk.stem import PorterStemmer, WordNetLemmatizer\n",
        "from nltk.tokenize import word_tokenize\n",
        "from nltk.corpus import stopwords\n",
        "from nltk import  pos_tag, ne_chunk"
      ]
    },
    {
      "cell_type": "code",
      "execution_count": null,
      "metadata": {
        "id": "5SqoHp4Hkpyj"
      },
      "outputs": [],
      "source": [
        "nltk.download('punkt')\n",
        "nltk.download('wordnet')\n",
        "nltk.download('stopwords')\n",
        "nltk.download('averaged_perceptron_tagger')\n",
        "nltk.download('maxent_ne_chunker')"
      ]
    },
    {
      "cell_type": "code",
      "execution_count": null,
      "metadata": {
        "colab": {
          "base_uri": "https://localhost:8080/"
        },
        "id": "WYhe75nSj6M4",
        "outputId": "d97e2daa-246f-42ce-b09b-e6c02d45a412"
      },
      "outputs": [
        {
          "name": "stdout",
          "output_type": "stream",
          "text": [
            "Enter text:Amar, the head of a black-ops squad is summoned by Police commissioner Jose to bring justice to a group of masked vigilantes for the murder of Stephen Raj, who was killed following his arrest and subsequent release after being imprisoned for aiding Adaikalam and Anbu in the murder of ACP Prabhajaran and his foster father, Karnan.[a] Amar leads the investigation by digging into Karnan's life, as he finds the murder out of place since Karnan was an ordinary man while the other two were high-ranking NCB officials.  Amar learns of Karnan's recent addiction to alcohol, drugs and prostitutes, while concurrently being overprotective of his infant foster grandson. Whilst investigating, Amar learns of two missing shipping containers of drugs being hunted by Sandhanam, who runs a much bigger syndicate than Adaikalam, named Vetti Vagaiyara. The other two containers were supposed to have been delivered to his cold-blooded smuggler boss, Rolex. The latter had promised to help Sandhanam form his own government if the drugs were delivered; if not Sandhanam and his family would be killed. Amar slowly figures out that all of Karnan's addictions were a ruse to cover up a covert operation he had been running.  Meanwhile, Veerapandian, a PWD officer, assigns a meeting with the gangsters at a theatre, where he reveals that he along with a contractor named Rudra Prathap know the location of the containers as they want to deliver them to Rolex, bypassing Sandhanam. However, the masked vigilantes arrive and kill Veerapandian by slitting his throat. Amar and his team arrive at the scene, having learnt of the events through a tracking chip left by Karnan, and capture one of the vigilantes, Bejoy. Amar interrogates Bejoy who discloses that his family were killed for his role in leading an earlier drugs bust,[a] leaving them to join the vigilantes. Realizing that Rudra Prathap is also one of the vigilantes' next targets, Amar and his team sneak into Rudra Prathap's daughter's wedding ceremony, where Prathap has invited Sandhanam for protection, fearing for his life and family.  The masked men, along with their leader, arrive at the wedding, where the leader threatens Prathap by holding his daughter at knifepoint. The leader drags Prathap and escapes on a bike, leaving the other members to deal with Sandhanam, however he defeats them. Amar chases the leader and confronts him. The leader video calls Sandhanam and reveals himself to be Karnan, who is infact alive and had faked his own death. Karnan kills Prathap by slitting his throat and escapes from the police. Amar reveals to Jose that Karnan is actually Vikram, the former commander of the black-ops squad 1986 pilot batch. After a botched mission in 1991 which led to the squad being branded as terrorists, the government hunted and brutally killed all of the squad members and their families; only Vikram and three other members survived. Amar comes to the conclusion that Jose is Sandhanam's mole within the department and was involved in Prabhajaran's murder. It is revealed that Prabhajaran was captured by Sandhanam with Jose's help. Sandhanam had interrogated Prabhajaran about the containers and upon his refusal to divulge any information, proceeded to kill him. Jose, Veerapandian and Prathap covered up the murder by disguising it as a terrorist attack. Amar orchestrates a bomb blast at Sandhanam's house, which destroys his bungalow and a drug lab in his basement. Jose informs Sandhanam of the bombing just in time and everyone except Sandhanam's brother Elango evacuate from the blast site. Jose reveals Vikram and Amar's identities to Sandhanam.  Later, Vikram arrives at the prison, and frees Bejoy and his team. Sandhanam brutally kills Amar's wife Gayathri, by decapitating her and sends his men to attack Vikram's daughter-in-law and grandson at Prabhajaran's residence. Having already expected this, Vikram rushes to save them, where a member of Vikram's pilot black-ops squad, Tina who was posing as the servant of the house under the name of Valiamma, is killed whilst protecting Vikram's daughter-in-law and grandson. Distraught at his wife's death, Amar joins Vikram's gang to take down Sandhanam and his syndicate. He arrives at Jose's house and kills him after learning of his involvment in Gayathri's murder.  Vikram and his grandson reach Chennai Port where the hidden containers are hidden. Sandhanam learns about the location of the containers and attacks Vikram. Vikram mows down Sandhanam's men with a cannon and an M2 Browning but the remaining members of his black ops squad, Agents Uppiliappan and Lawrence, are killed in the scuffle. Vikram blows up Sandhanam's containers and Sandhanam is killed in the midst. After Gayathri's funeral in Ernakulam, Amar mourns Gayathri's death and with the syndicate destroyed, he vows to continue Vikram's mission by joining his team along with Bejoy.  One week later, Adaikalam and Anbu arrive with their men in the Sassoon Docks in Mumbai, and meet up with the gangsters affiliated with Sandhanam and oragnize a meeting with their boss, Rolex. Adaikalam and Anbu reveal Dilli's involvement in the Trichy drug ambush,[a] and Sandhanam's men reveal Vikram's and Amar's involvement in the destruction of their drug syndicate and the killing of their leader. Anbu informs Rolex that Dilli is hiding in Uttar Pradesh while Sandhanam's men inform him that Vikram's family are settled abroad, shown to be San Francisco. Rolex announces a huge sum as a reward for the execution of Amar, Dilli and Vikram's team. However, unknown to everyone else, Vikram is present at the meeting and walks away with determination after learning about the bounty placed on his team, Amar and Dilli.\n"
          ]
        }
      ],
      "source": [
        "text = input(\"Enter text:\")"
      ]
    },
    {
      "cell_type": "code",
      "execution_count": null,
      "metadata": {
        "colab": {
          "background_save": true,
          "base_uri": "https://localhost:8080/"
        },
        "id": "EZwJmpali2rj",
        "outputId": "551510fc-d7e7-4937-8912-50d05ecef279"
      },
      "outputs": [
        {
          "name": "stdout",
          "output_type": "stream",
          "text": [
            "\n",
            "Tokenized:\n",
            "['Amar', ',', 'the', 'head', 'of', 'a', 'black-ops', 'squad', 'is', 'summoned', 'by', 'Police', 'commissioner', 'Jose', 'to', 'bring', 'justice', 'to', 'a', 'group', 'of', 'masked', 'vigilantes', 'for', 'the', 'murder', 'of', 'Stephen', 'Raj', ',', 'who', 'was', 'killed', 'following', 'his', 'arrest', 'and', 'subsequent', 'release', 'after', 'being', 'imprisoned', 'for', 'aiding', 'Adaikalam', 'and', 'Anbu', 'in', 'the', 'murder', 'of', 'ACP', 'Prabhajaran', 'and', 'his', 'foster', 'father', ',', 'Karnan', '.', '[', 'a', ']', 'Amar', 'leads', 'the', 'investigation', 'by', 'digging', 'into', 'Karnan', \"'s\", 'life', ',', 'as', 'he', 'finds', 'the', 'murder', 'out', 'of', 'place', 'since', 'Karnan', 'was', 'an', 'ordinary', 'man', 'while', 'the', 'other', 'two', 'were', 'high-ranking', 'NCB', 'officials', '.', 'Amar', 'learns', 'of', 'Karnan', \"'s\", 'recent', 'addiction', 'to', 'alcohol', ',', 'drugs', 'and', 'prostitutes', ',', 'while', 'concurrently', 'being', 'overprotective', 'of', 'his', 'infant', 'foster', 'grandson', '.', 'Whilst', 'investigating', ',', 'Amar', 'learns', 'of', 'two', 'missing', 'shipping', 'containers', 'of', 'drugs', 'being', 'hunted', 'by', 'Sandhanam', ',', 'who', 'runs', 'a', 'much', 'bigger', 'syndicate', 'than', 'Adaikalam', ',', 'named', 'Vetti', 'Vagaiyara', '.', 'The', 'other', 'two', 'containers', 'were', 'supposed', 'to', 'have', 'been', 'delivered', 'to', 'his', 'cold-blooded', 'smuggler', 'boss', ',', 'Rolex', '.', 'The', 'latter', 'had', 'promised', 'to', 'help', 'Sandhanam', 'form', 'his', 'own', 'government', 'if', 'the', 'drugs', 'were', 'delivered', ';', 'if', 'not', 'Sandhanam', 'and', 'his', 'family', 'would', 'be', 'killed', '.', 'Amar', 'slowly', 'figures', 'out', 'that', 'all', 'of', 'Karnan', \"'s\", 'addictions', 'were', 'a', 'ruse', 'to', 'cover', 'up', 'a', 'covert', 'operation', 'he', 'had', 'been', 'running', '.', 'Meanwhile', ',', 'Veerapandian', ',', 'a', 'PWD', 'officer', ',', 'assigns', 'a', 'meeting', 'with', 'the', 'gangsters', 'at', 'a', 'theatre', ',', 'where', 'he', 'reveals', 'that', 'he', 'along', 'with', 'a', 'contractor', 'named', 'Rudra', 'Prathap', 'know', 'the', 'location', 'of', 'the', 'containers', 'as', 'they', 'want', 'to', 'deliver', 'them', 'to', 'Rolex', ',', 'bypassing', 'Sandhanam', '.', 'However', ',', 'the', 'masked', 'vigilantes', 'arrive', 'and', 'kill', 'Veerapandian', 'by', 'slitting', 'his', 'throat', '.', 'Amar', 'and', 'his', 'team', 'arrive', 'at', 'the', 'scene', ',', 'having', 'learnt', 'of', 'the', 'events', 'through', 'a', 'tracking', 'chip', 'left', 'by', 'Karnan', ',', 'and', 'capture', 'one', 'of', 'the', 'vigilantes', ',', 'Bejoy', '.', 'Amar', 'interrogates', 'Bejoy', 'who', 'discloses', 'that', 'his', 'family', 'were', 'killed', 'for', 'his', 'role', 'in', 'leading', 'an', 'earlier', 'drugs', 'bust', ',', '[', 'a', ']', 'leaving', 'them', 'to', 'join', 'the', 'vigilantes', '.', 'Realizing', 'that', 'Rudra', 'Prathap', 'is', 'also', 'one', 'of', 'the', 'vigilantes', \"'\", 'next', 'targets', ',', 'Amar', 'and', 'his', 'team', 'sneak', 'into', 'Rudra', 'Prathap', \"'s\", 'daughter', \"'s\", 'wedding', 'ceremony', ',', 'where', 'Prathap', 'has', 'invited', 'Sandhanam', 'for', 'protection', ',', 'fearing', 'for', 'his', 'life', 'and', 'family', '.', 'The', 'masked', 'men', ',', 'along', 'with', 'their', 'leader', ',', 'arrive', 'at', 'the', 'wedding', ',', 'where', 'the', 'leader', 'threatens', 'Prathap', 'by', 'holding', 'his', 'daughter', 'at', 'knifepoint', '.', 'The', 'leader', 'drags', 'Prathap', 'and', 'escapes', 'on', 'a', 'bike', ',', 'leaving', 'the', 'other', 'members', 'to', 'deal', 'with', 'Sandhanam', ',', 'however', 'he', 'defeats', 'them', '.', 'Amar', 'chases', 'the', 'leader', 'and', 'confronts', 'him', '.', 'The', 'leader', 'video', 'calls', 'Sandhanam', 'and', 'reveals', 'himself', 'to', 'be', 'Karnan', ',', 'who', 'is', 'infact', 'alive', 'and', 'had', 'faked', 'his', 'own', 'death', '.', 'Karnan', 'kills', 'Prathap', 'by', 'slitting', 'his', 'throat', 'and', 'escapes', 'from', 'the', 'police', '.', 'Amar', 'reveals', 'to', 'Jose', 'that', 'Karnan', 'is', 'actually', 'Vikram', ',', 'the', 'former', 'commander', 'of', 'the', 'black-ops', 'squad', '1986', 'pilot', 'batch', '.', 'After', 'a', 'botched', 'mission', 'in', '1991', 'which', 'led', 'to', 'the', 'squad', 'being', 'branded', 'as', 'terrorists', ',', 'the', 'government', 'hunted', 'and', 'brutally', 'killed', 'all', 'of', 'the', 'squad', 'members', 'and', 'their', 'families', ';', 'only', 'Vikram', 'and', 'three', 'other', 'members', 'survived', '.', 'Amar', 'comes', 'to', 'the', 'conclusion', 'that', 'Jose', 'is', 'Sandhanam', \"'s\", 'mole', 'within', 'the', 'department', 'and', 'was', 'involved', 'in', 'Prabhajaran', \"'s\", 'murder', '.', 'It', 'is', 'revealed', 'that', 'Prabhajaran', 'was', 'captured', 'by', 'Sandhanam', 'with', 'Jose', \"'s\", 'help', '.', 'Sandhanam', 'had', 'interrogated', 'Prabhajaran', 'about', 'the', 'containers', 'and', 'upon', 'his', 'refusal', 'to', 'divulge', 'any', 'information', ',', 'proceeded', 'to', 'kill', 'him', '.', 'Jose', ',', 'Veerapandian', 'and', 'Prathap', 'covered', 'up', 'the', 'murder', 'by', 'disguising', 'it', 'as', 'a', 'terrorist', 'attack', '.', 'Amar', 'orchestrates', 'a', 'bomb', 'blast', 'at', 'Sandhanam', \"'s\", 'house', ',', 'which', 'destroys', 'his', 'bungalow', 'and', 'a', 'drug', 'lab', 'in', 'his', 'basement', '.', 'Jose', 'informs', 'Sandhanam', 'of', 'the', 'bombing', 'just', 'in', 'time', 'and', 'everyone', 'except', 'Sandhanam', \"'s\", 'brother', 'Elango', 'evacuate', 'from', 'the', 'blast', 'site', '.', 'Jose', 'reveals', 'Vikram', 'and', 'Amar', \"'s\", 'identities', 'to', 'Sandhanam', '.', 'Later', ',', 'Vikram', 'arrives', 'at', 'the', 'prison', ',', 'and', 'frees', 'Bejoy', 'and', 'his', 'team', '.', 'Sandhanam', 'brutally', 'kills', 'Amar', \"'s\", 'wife', 'Gayathri', ',', 'by', 'decapitating', 'her', 'and', 'sends', 'his', 'men', 'to', 'attack', 'Vikram', \"'s\", 'daughter-in-law', 'and', 'grandson', 'at', 'Prabhajaran', \"'s\", 'residence', '.', 'Having', 'already', 'expected', 'this', ',', 'Vikram', 'rushes', 'to', 'save', 'them', ',', 'where', 'a', 'member', 'of', 'Vikram', \"'s\", 'pilot', 'black-ops', 'squad', ',', 'Tina', 'who', 'was', 'posing', 'as', 'the', 'servant', 'of', 'the', 'house', 'under', 'the', 'name', 'of', 'Valiamma', ',', 'is', 'killed', 'whilst', 'protecting', 'Vikram', \"'s\", 'daughter-in-law', 'and', 'grandson', '.', 'Distraught', 'at', 'his', 'wife', \"'s\", 'death', ',', 'Amar', 'joins', 'Vikram', \"'s\", 'gang', 'to', 'take', 'down', 'Sandhanam', 'and', 'his', 'syndicate', '.', 'He', 'arrives', 'at', 'Jose', \"'s\", 'house', 'and', 'kills', 'him', 'after', 'learning', 'of', 'his', 'involvment', 'in', 'Gayathri', \"'s\", 'murder', '.', 'Vikram', 'and', 'his', 'grandson', 'reach', 'Chennai', 'Port', 'where', 'the', 'hidden', 'containers', 'are', 'hidden', '.', 'Sandhanam', 'learns', 'about', 'the', 'location', 'of', 'the', 'containers', 'and', 'attacks', 'Vikram', '.', 'Vikram', 'mows', 'down', 'Sandhanam', \"'s\", 'men', 'with', 'a', 'cannon', 'and', 'an', 'M2', 'Browning', 'but', 'the', 'remaining', 'members', 'of', 'his', 'black', 'ops', 'squad', ',', 'Agents', 'Uppiliappan', 'and', 'Lawrence', ',', 'are', 'killed', 'in', 'the', 'scuffle', '.', 'Vikram', 'blows', 'up', 'Sandhanam', \"'s\", 'containers', 'and', 'Sandhanam', 'is', 'killed', 'in', 'the', 'midst', '.', 'After', 'Gayathri', \"'s\", 'funeral', 'in', 'Ernakulam', ',', 'Amar', 'mourns', 'Gayathri', \"'s\", 'death', 'and', 'with', 'the', 'syndicate', 'destroyed', ',', 'he', 'vows', 'to', 'continue', 'Vikram', \"'s\", 'mission', 'by', 'joining', 'his', 'team', 'along', 'with', 'Bejoy', '.', 'One', 'week', 'later', ',', 'Adaikalam', 'and', 'Anbu', 'arrive', 'with', 'their', 'men', 'in', 'the', 'Sassoon', 'Docks', 'in', 'Mumbai', ',', 'and', 'meet', 'up', 'with', 'the', 'gangsters', 'affiliated', 'with', 'Sandhanam', 'and', 'oragnize', 'a', 'meeting', 'with', 'their', 'boss', ',', 'Rolex', '.', 'Adaikalam', 'and', 'Anbu', 'reveal', 'Dilli', \"'s\", 'involvement', 'in', 'the', 'Trichy', 'drug', 'ambush', ',', '[', 'a', ']', 'and', 'Sandhanam', \"'s\", 'men', 'reveal', 'Vikram', \"'s\", 'and', 'Amar', \"'s\", 'involvement', 'in', 'the', 'destruction', 'of', 'their', 'drug', 'syndicate', 'and', 'the', 'killing', 'of', 'their', 'leader', '.', 'Anbu', 'informs', 'Rolex', 'that', 'Dilli', 'is', 'hiding', 'in', 'Uttar', 'Pradesh', 'while', 'Sandhanam', \"'s\", 'men', 'inform', 'him', 'that', 'Vikram', \"'s\", 'family', 'are', 'settled', 'abroad', ',', 'shown', 'to', 'be', 'San', 'Francisco', '.', 'Rolex', 'announces', 'a', 'huge', 'sum', 'as', 'a', 'reward', 'for', 'the', 'execution', 'of', 'Amar', ',', 'Dilli', 'and', 'Vikram', \"'s\", 'team', '.', 'However', ',', 'unknown', 'to', 'everyone', 'else', ',', 'Vikram', 'is', 'present', 'at', 'the', 'meeting', 'and', 'walks', 'away', 'with', 'determination', 'after', 'learning', 'about', 'the', 'bounty', 'placed', 'on', 'his', 'team', ',', 'Amar', 'and', 'Dilli', '.']\n"
          ]
        }
      ],
      "source": [
        "# Tokenize the text\n",
        "words = word_tokenize(text)\n",
        "print(\"\\nTokenized:\")\n",
        "print(words)\n",
        "\n"
      ]
    },
    {
      "cell_type": "code",
      "execution_count": null,
      "metadata": {
        "colab": {
          "base_uri": "https://localhost:8080/"
        },
        "id": "lovhiMEVmP7z",
        "outputId": "b4a7cecd-44d3-4602-dc0e-900cb18f8b46"
      },
      "outputs": [
        {
          "name": "stdout",
          "output_type": "stream",
          "text": [
            "Stemmed Words:\n",
            "['amar', ',', 'the', 'head', 'of', 'a', 'black-op', 'squad', 'is', 'summon', 'by', 'polic', 'commission', 'jose', 'to', 'bring', 'justic', 'to', 'a', 'group', 'of', 'mask', 'vigilant', 'for', 'the', 'murder', 'of', 'stephen', 'raj', ',', 'who', 'wa', 'kill', 'follow', 'hi', 'arrest', 'and', 'subsequ', 'releas', 'after', 'be', 'imprison', 'for', 'aid', 'adaikalam', 'and', 'anbu', 'in', 'the', 'murder', 'of', 'acp', 'prabhajaran', 'and', 'hi', 'foster', 'father', ',', 'karnan', '.', '[', 'a', ']', 'amar', 'lead', 'the', 'investig', 'by', 'dig', 'into', 'karnan', \"'s\", 'life', ',', 'as', 'he', 'find', 'the', 'murder', 'out', 'of', 'place', 'sinc', 'karnan', 'wa', 'an', 'ordinari', 'man', 'while', 'the', 'other', 'two', 'were', 'high-rank', 'ncb', 'offici', '.', 'amar', 'learn', 'of', 'karnan', \"'s\", 'recent', 'addict', 'to', 'alcohol', ',', 'drug', 'and', 'prostitut', ',', 'while', 'concurr', 'be', 'overprotect', 'of', 'hi', 'infant', 'foster', 'grandson', '.', 'whilst', 'investig', ',', 'amar', 'learn', 'of', 'two', 'miss', 'ship', 'contain', 'of', 'drug', 'be', 'hunt', 'by', 'sandhanam', ',', 'who', 'run', 'a', 'much', 'bigger', 'syndic', 'than', 'adaikalam', ',', 'name', 'vetti', 'vagaiyara', '.', 'the', 'other', 'two', 'contain', 'were', 'suppos', 'to', 'have', 'been', 'deliv', 'to', 'hi', 'cold-blood', 'smuggler', 'boss', ',', 'rolex', '.', 'the', 'latter', 'had', 'promis', 'to', 'help', 'sandhanam', 'form', 'hi', 'own', 'govern', 'if', 'the', 'drug', 'were', 'deliv', ';', 'if', 'not', 'sandhanam', 'and', 'hi', 'famili', 'would', 'be', 'kill', '.', 'amar', 'slowli', 'figur', 'out', 'that', 'all', 'of', 'karnan', \"'s\", 'addict', 'were', 'a', 'ruse', 'to', 'cover', 'up', 'a', 'covert', 'oper', 'he', 'had', 'been', 'run', '.', 'meanwhil', ',', 'veerapandian', ',', 'a', 'pwd', 'offic', ',', 'assign', 'a', 'meet', 'with', 'the', 'gangster', 'at', 'a', 'theatr', ',', 'where', 'he', 'reveal', 'that', 'he', 'along', 'with', 'a', 'contractor', 'name', 'rudra', 'prathap', 'know', 'the', 'locat', 'of', 'the', 'contain', 'as', 'they', 'want', 'to', 'deliv', 'them', 'to', 'rolex', ',', 'bypass', 'sandhanam', '.', 'howev', ',', 'the', 'mask', 'vigilant', 'arriv', 'and', 'kill', 'veerapandian', 'by', 'slit', 'hi', 'throat', '.', 'amar', 'and', 'hi', 'team', 'arriv', 'at', 'the', 'scene', ',', 'have', 'learnt', 'of', 'the', 'event', 'through', 'a', 'track', 'chip', 'left', 'by', 'karnan', ',', 'and', 'captur', 'one', 'of', 'the', 'vigilant', ',', 'bejoy', '.', 'amar', 'interrog', 'bejoy', 'who', 'disclos', 'that', 'hi', 'famili', 'were', 'kill', 'for', 'hi', 'role', 'in', 'lead', 'an', 'earlier', 'drug', 'bust', ',', '[', 'a', ']', 'leav', 'them', 'to', 'join', 'the', 'vigilant', '.', 'realiz', 'that', 'rudra', 'prathap', 'is', 'also', 'one', 'of', 'the', 'vigilant', \"'\", 'next', 'target', ',', 'amar', 'and', 'hi', 'team', 'sneak', 'into', 'rudra', 'prathap', \"'s\", 'daughter', \"'s\", 'wed', 'ceremoni', ',', 'where', 'prathap', 'ha', 'invit', 'sandhanam', 'for', 'protect', ',', 'fear', 'for', 'hi', 'life', 'and', 'famili', '.', 'the', 'mask', 'men', ',', 'along', 'with', 'their', 'leader', ',', 'arriv', 'at', 'the', 'wed', ',', 'where', 'the', 'leader', 'threaten', 'prathap', 'by', 'hold', 'hi', 'daughter', 'at', 'knifepoint', '.', 'the', 'leader', 'drag', 'prathap', 'and', 'escap', 'on', 'a', 'bike', ',', 'leav', 'the', 'other', 'member', 'to', 'deal', 'with', 'sandhanam', ',', 'howev', 'he', 'defeat', 'them', '.', 'amar', 'chase', 'the', 'leader', 'and', 'confront', 'him', '.', 'the', 'leader', 'video', 'call', 'sandhanam', 'and', 'reveal', 'himself', 'to', 'be', 'karnan', ',', 'who', 'is', 'infact', 'aliv', 'and', 'had', 'fake', 'hi', 'own', 'death', '.', 'karnan', 'kill', 'prathap', 'by', 'slit', 'hi', 'throat', 'and', 'escap', 'from', 'the', 'polic', '.', 'amar', 'reveal', 'to', 'jose', 'that', 'karnan', 'is', 'actual', 'vikram', ',', 'the', 'former', 'command', 'of', 'the', 'black-op', 'squad', '1986', 'pilot', 'batch', '.', 'after', 'a', 'botch', 'mission', 'in', '1991', 'which', 'led', 'to', 'the', 'squad', 'be', 'brand', 'as', 'terrorist', ',', 'the', 'govern', 'hunt', 'and', 'brutal', 'kill', 'all', 'of', 'the', 'squad', 'member', 'and', 'their', 'famili', ';', 'onli', 'vikram', 'and', 'three', 'other', 'member', 'surviv', '.', 'amar', 'come', 'to', 'the', 'conclus', 'that', 'jose', 'is', 'sandhanam', \"'s\", 'mole', 'within', 'the', 'depart', 'and', 'wa', 'involv', 'in', 'prabhajaran', \"'s\", 'murder', '.', 'it', 'is', 'reveal', 'that', 'prabhajaran', 'wa', 'captur', 'by', 'sandhanam', 'with', 'jose', \"'s\", 'help', '.', 'sandhanam', 'had', 'interrog', 'prabhajaran', 'about', 'the', 'contain', 'and', 'upon', 'hi', 'refus', 'to', 'divulg', 'ani', 'inform', ',', 'proceed', 'to', 'kill', 'him', '.', 'jose', ',', 'veerapandian', 'and', 'prathap', 'cover', 'up', 'the', 'murder', 'by', 'disguis', 'it', 'as', 'a', 'terrorist', 'attack', '.', 'amar', 'orchestr', 'a', 'bomb', 'blast', 'at', 'sandhanam', \"'s\", 'hous', ',', 'which', 'destroy', 'hi', 'bungalow', 'and', 'a', 'drug', 'lab', 'in', 'hi', 'basement', '.', 'jose', 'inform', 'sandhanam', 'of', 'the', 'bomb', 'just', 'in', 'time', 'and', 'everyon', 'except', 'sandhanam', \"'s\", 'brother', 'elango', 'evacu', 'from', 'the', 'blast', 'site', '.', 'jose', 'reveal', 'vikram', 'and', 'amar', \"'s\", 'ident', 'to', 'sandhanam', '.', 'later', ',', 'vikram', 'arriv', 'at', 'the', 'prison', ',', 'and', 'free', 'bejoy', 'and', 'hi', 'team', '.', 'sandhanam', 'brutal', 'kill', 'amar', \"'s\", 'wife', 'gayathri', ',', 'by', 'decapit', 'her', 'and', 'send', 'hi', 'men', 'to', 'attack', 'vikram', \"'s\", 'daughter-in-law', 'and', 'grandson', 'at', 'prabhajaran', \"'s\", 'resid', '.', 'have', 'alreadi', 'expect', 'thi', ',', 'vikram', 'rush', 'to', 'save', 'them', ',', 'where', 'a', 'member', 'of', 'vikram', \"'s\", 'pilot', 'black-op', 'squad', ',', 'tina', 'who', 'wa', 'pose', 'as', 'the', 'servant', 'of', 'the', 'hous', 'under', 'the', 'name', 'of', 'valiamma', ',', 'is', 'kill', 'whilst', 'protect', 'vikram', \"'s\", 'daughter-in-law', 'and', 'grandson', '.', 'distraught', 'at', 'hi', 'wife', \"'s\", 'death', ',', 'amar', 'join', 'vikram', \"'s\", 'gang', 'to', 'take', 'down', 'sandhanam', 'and', 'hi', 'syndic', '.', 'he', 'arriv', 'at', 'jose', \"'s\", 'hous', 'and', 'kill', 'him', 'after', 'learn', 'of', 'hi', 'involv', 'in', 'gayathri', \"'s\", 'murder', '.', 'vikram', 'and', 'hi', 'grandson', 'reach', 'chennai', 'port', 'where', 'the', 'hidden', 'contain', 'are', 'hidden', '.', 'sandhanam', 'learn', 'about', 'the', 'locat', 'of', 'the', 'contain', 'and', 'attack', 'vikram', '.', 'vikram', 'mow', 'down', 'sandhanam', \"'s\", 'men', 'with', 'a', 'cannon', 'and', 'an', 'm2', 'brown', 'but', 'the', 'remain', 'member', 'of', 'hi', 'black', 'op', 'squad', ',', 'agent', 'uppiliappan', 'and', 'lawrenc', ',', 'are', 'kill', 'in', 'the', 'scuffl', '.', 'vikram', 'blow', 'up', 'sandhanam', \"'s\", 'contain', 'and', 'sandhanam', 'is', 'kill', 'in', 'the', 'midst', '.', 'after', 'gayathri', \"'s\", 'funer', 'in', 'ernakulam', ',', 'amar', 'mourn', 'gayathri', \"'s\", 'death', 'and', 'with', 'the', 'syndic', 'destroy', ',', 'he', 'vow', 'to', 'continu', 'vikram', \"'s\", 'mission', 'by', 'join', 'hi', 'team', 'along', 'with', 'bejoy', '.', 'one', 'week', 'later', ',', 'adaikalam', 'and', 'anbu', 'arriv', 'with', 'their', 'men', 'in', 'the', 'sassoon', 'dock', 'in', 'mumbai', ',', 'and', 'meet', 'up', 'with', 'the', 'gangster', 'affili', 'with', 'sandhanam', 'and', 'oragn', 'a', 'meet', 'with', 'their', 'boss', ',', 'rolex', '.', 'adaikalam', 'and', 'anbu', 'reveal', 'dilli', \"'s\", 'involv', 'in', 'the', 'trichi', 'drug', 'ambush', ',', '[', 'a', ']', 'and', 'sandhanam', \"'s\", 'men', 'reveal', 'vikram', \"'s\", 'and', 'amar', \"'s\", 'involv', 'in', 'the', 'destruct', 'of', 'their', 'drug', 'syndic', 'and', 'the', 'kill', 'of', 'their', 'leader', '.', 'anbu', 'inform', 'rolex', 'that', 'dilli', 'is', 'hide', 'in', 'uttar', 'pradesh', 'while', 'sandhanam', \"'s\", 'men', 'inform', 'him', 'that', 'vikram', \"'s\", 'famili', 'are', 'settl', 'abroad', ',', 'shown', 'to', 'be', 'san', 'francisco', '.', 'rolex', 'announc', 'a', 'huge', 'sum', 'as', 'a', 'reward', 'for', 'the', 'execut', 'of', 'amar', ',', 'dilli', 'and', 'vikram', \"'s\", 'team', '.', 'howev', ',', 'unknown', 'to', 'everyon', 'els', ',', 'vikram', 'is', 'present', 'at', 'the', 'meet', 'and', 'walk', 'away', 'with', 'determin', 'after', 'learn', 'about', 'the', 'bounti', 'place', 'on', 'hi', 'team', ',', 'amar', 'and', 'dilli', '.']\n"
          ]
        }
      ],
      "source": [
        "# Stemming using Porter Stemmer\n",
        "porter_stemmer = PorterStemmer()\n",
        "stemmed_words = [porter_stemmer.stem(word) for word in words]\n",
        "\n",
        "print(\"Stemmed Words:\")\n",
        "print(stemmed_words)"
      ]
    },
    {
      "cell_type": "code",
      "execution_count": null,
      "metadata": {
        "colab": {
          "base_uri": "https://localhost:8080/"
        },
        "id": "EkYWNRN7mPvT",
        "outputId": "6a82e7f4-8c1c-4fd9-d4b7-6a60ad9a2e0f"
      },
      "outputs": [
        {
          "name": "stdout",
          "output_type": "stream",
          "text": [
            "\n",
            "Lemmatized Words:\n",
            "['Amar', ',', 'the', 'head', 'of', 'a', 'black-ops', 'squad', 'is', 'summoned', 'by', 'Police', 'commissioner', 'Jose', 'to', 'bring', 'justice', 'to', 'a', 'group', 'of', 'masked', 'vigilante', 'for', 'the', 'murder', 'of', 'Stephen', 'Raj', ',', 'who', 'wa', 'killed', 'following', 'his', 'arrest', 'and', 'subsequent', 'release', 'after', 'being', 'imprisoned', 'for', 'aiding', 'Adaikalam', 'and', 'Anbu', 'in', 'the', 'murder', 'of', 'ACP', 'Prabhajaran', 'and', 'his', 'foster', 'father', ',', 'Karnan', '.', '[', 'a', ']', 'Amar', 'lead', 'the', 'investigation', 'by', 'digging', 'into', 'Karnan', \"'s\", 'life', ',', 'a', 'he', 'find', 'the', 'murder', 'out', 'of', 'place', 'since', 'Karnan', 'wa', 'an', 'ordinary', 'man', 'while', 'the', 'other', 'two', 'were', 'high-ranking', 'NCB', 'official', '.', 'Amar', 'learns', 'of', 'Karnan', \"'s\", 'recent', 'addiction', 'to', 'alcohol', ',', 'drug', 'and', 'prostitute', ',', 'while', 'concurrently', 'being', 'overprotective', 'of', 'his', 'infant', 'foster', 'grandson', '.', 'Whilst', 'investigating', ',', 'Amar', 'learns', 'of', 'two', 'missing', 'shipping', 'container', 'of', 'drug', 'being', 'hunted', 'by', 'Sandhanam', ',', 'who', 'run', 'a', 'much', 'bigger', 'syndicate', 'than', 'Adaikalam', ',', 'named', 'Vetti', 'Vagaiyara', '.', 'The', 'other', 'two', 'container', 'were', 'supposed', 'to', 'have', 'been', 'delivered', 'to', 'his', 'cold-blooded', 'smuggler', 'bos', ',', 'Rolex', '.', 'The', 'latter', 'had', 'promised', 'to', 'help', 'Sandhanam', 'form', 'his', 'own', 'government', 'if', 'the', 'drug', 'were', 'delivered', ';', 'if', 'not', 'Sandhanam', 'and', 'his', 'family', 'would', 'be', 'killed', '.', 'Amar', 'slowly', 'figure', 'out', 'that', 'all', 'of', 'Karnan', \"'s\", 'addiction', 'were', 'a', 'ruse', 'to', 'cover', 'up', 'a', 'covert', 'operation', 'he', 'had', 'been', 'running', '.', 'Meanwhile', ',', 'Veerapandian', ',', 'a', 'PWD', 'officer', ',', 'assigns', 'a', 'meeting', 'with', 'the', 'gangster', 'at', 'a', 'theatre', ',', 'where', 'he', 'reveals', 'that', 'he', 'along', 'with', 'a', 'contractor', 'named', 'Rudra', 'Prathap', 'know', 'the', 'location', 'of', 'the', 'container', 'a', 'they', 'want', 'to', 'deliver', 'them', 'to', 'Rolex', ',', 'bypassing', 'Sandhanam', '.', 'However', ',', 'the', 'masked', 'vigilante', 'arrive', 'and', 'kill', 'Veerapandian', 'by', 'slitting', 'his', 'throat', '.', 'Amar', 'and', 'his', 'team', 'arrive', 'at', 'the', 'scene', ',', 'having', 'learnt', 'of', 'the', 'event', 'through', 'a', 'tracking', 'chip', 'left', 'by', 'Karnan', ',', 'and', 'capture', 'one', 'of', 'the', 'vigilante', ',', 'Bejoy', '.', 'Amar', 'interrogates', 'Bejoy', 'who', 'discloses', 'that', 'his', 'family', 'were', 'killed', 'for', 'his', 'role', 'in', 'leading', 'an', 'earlier', 'drug', 'bust', ',', '[', 'a', ']', 'leaving', 'them', 'to', 'join', 'the', 'vigilante', '.', 'Realizing', 'that', 'Rudra', 'Prathap', 'is', 'also', 'one', 'of', 'the', 'vigilante', \"'\", 'next', 'target', ',', 'Amar', 'and', 'his', 'team', 'sneak', 'into', 'Rudra', 'Prathap', \"'s\", 'daughter', \"'s\", 'wedding', 'ceremony', ',', 'where', 'Prathap', 'ha', 'invited', 'Sandhanam', 'for', 'protection', ',', 'fearing', 'for', 'his', 'life', 'and', 'family', '.', 'The', 'masked', 'men', ',', 'along', 'with', 'their', 'leader', ',', 'arrive', 'at', 'the', 'wedding', ',', 'where', 'the', 'leader', 'threatens', 'Prathap', 'by', 'holding', 'his', 'daughter', 'at', 'knifepoint', '.', 'The', 'leader', 'drag', 'Prathap', 'and', 'escape', 'on', 'a', 'bike', ',', 'leaving', 'the', 'other', 'member', 'to', 'deal', 'with', 'Sandhanam', ',', 'however', 'he', 'defeat', 'them', '.', 'Amar', 'chase', 'the', 'leader', 'and', 'confronts', 'him', '.', 'The', 'leader', 'video', 'call', 'Sandhanam', 'and', 'reveals', 'himself', 'to', 'be', 'Karnan', ',', 'who', 'is', 'infact', 'alive', 'and', 'had', 'faked', 'his', 'own', 'death', '.', 'Karnan', 'kill', 'Prathap', 'by', 'slitting', 'his', 'throat', 'and', 'escape', 'from', 'the', 'police', '.', 'Amar', 'reveals', 'to', 'Jose', 'that', 'Karnan', 'is', 'actually', 'Vikram', ',', 'the', 'former', 'commander', 'of', 'the', 'black-ops', 'squad', '1986', 'pilot', 'batch', '.', 'After', 'a', 'botched', 'mission', 'in', '1991', 'which', 'led', 'to', 'the', 'squad', 'being', 'branded', 'a', 'terrorist', ',', 'the', 'government', 'hunted', 'and', 'brutally', 'killed', 'all', 'of', 'the', 'squad', 'member', 'and', 'their', 'family', ';', 'only', 'Vikram', 'and', 'three', 'other', 'member', 'survived', '.', 'Amar', 'come', 'to', 'the', 'conclusion', 'that', 'Jose', 'is', 'Sandhanam', \"'s\", 'mole', 'within', 'the', 'department', 'and', 'wa', 'involved', 'in', 'Prabhajaran', \"'s\", 'murder', '.', 'It', 'is', 'revealed', 'that', 'Prabhajaran', 'wa', 'captured', 'by', 'Sandhanam', 'with', 'Jose', \"'s\", 'help', '.', 'Sandhanam', 'had', 'interrogated', 'Prabhajaran', 'about', 'the', 'container', 'and', 'upon', 'his', 'refusal', 'to', 'divulge', 'any', 'information', ',', 'proceeded', 'to', 'kill', 'him', '.', 'Jose', ',', 'Veerapandian', 'and', 'Prathap', 'covered', 'up', 'the', 'murder', 'by', 'disguising', 'it', 'a', 'a', 'terrorist', 'attack', '.', 'Amar', 'orchestrates', 'a', 'bomb', 'blast', 'at', 'Sandhanam', \"'s\", 'house', ',', 'which', 'destroys', 'his', 'bungalow', 'and', 'a', 'drug', 'lab', 'in', 'his', 'basement', '.', 'Jose', 'informs', 'Sandhanam', 'of', 'the', 'bombing', 'just', 'in', 'time', 'and', 'everyone', 'except', 'Sandhanam', \"'s\", 'brother', 'Elango', 'evacuate', 'from', 'the', 'blast', 'site', '.', 'Jose', 'reveals', 'Vikram', 'and', 'Amar', \"'s\", 'identity', 'to', 'Sandhanam', '.', 'Later', ',', 'Vikram', 'arrives', 'at', 'the', 'prison', ',', 'and', 'free', 'Bejoy', 'and', 'his', 'team', '.', 'Sandhanam', 'brutally', 'kill', 'Amar', \"'s\", 'wife', 'Gayathri', ',', 'by', 'decapitating', 'her', 'and', 'sends', 'his', 'men', 'to', 'attack', 'Vikram', \"'s\", 'daughter-in-law', 'and', 'grandson', 'at', 'Prabhajaran', \"'s\", 'residence', '.', 'Having', 'already', 'expected', 'this', ',', 'Vikram', 'rush', 'to', 'save', 'them', ',', 'where', 'a', 'member', 'of', 'Vikram', \"'s\", 'pilot', 'black-ops', 'squad', ',', 'Tina', 'who', 'wa', 'posing', 'a', 'the', 'servant', 'of', 'the', 'house', 'under', 'the', 'name', 'of', 'Valiamma', ',', 'is', 'killed', 'whilst', 'protecting', 'Vikram', \"'s\", 'daughter-in-law', 'and', 'grandson', '.', 'Distraught', 'at', 'his', 'wife', \"'s\", 'death', ',', 'Amar', 'join', 'Vikram', \"'s\", 'gang', 'to', 'take', 'down', 'Sandhanam', 'and', 'his', 'syndicate', '.', 'He', 'arrives', 'at', 'Jose', \"'s\", 'house', 'and', 'kill', 'him', 'after', 'learning', 'of', 'his', 'involvment', 'in', 'Gayathri', \"'s\", 'murder', '.', 'Vikram', 'and', 'his', 'grandson', 'reach', 'Chennai', 'Port', 'where', 'the', 'hidden', 'container', 'are', 'hidden', '.', 'Sandhanam', 'learns', 'about', 'the', 'location', 'of', 'the', 'container', 'and', 'attack', 'Vikram', '.', 'Vikram', 'mow', 'down', 'Sandhanam', \"'s\", 'men', 'with', 'a', 'cannon', 'and', 'an', 'M2', 'Browning', 'but', 'the', 'remaining', 'member', 'of', 'his', 'black', 'ops', 'squad', ',', 'Agents', 'Uppiliappan', 'and', 'Lawrence', ',', 'are', 'killed', 'in', 'the', 'scuffle', '.', 'Vikram', 'blow', 'up', 'Sandhanam', \"'s\", 'container', 'and', 'Sandhanam', 'is', 'killed', 'in', 'the', 'midst', '.', 'After', 'Gayathri', \"'s\", 'funeral', 'in', 'Ernakulam', ',', 'Amar', 'mourns', 'Gayathri', \"'s\", 'death', 'and', 'with', 'the', 'syndicate', 'destroyed', ',', 'he', 'vow', 'to', 'continue', 'Vikram', \"'s\", 'mission', 'by', 'joining', 'his', 'team', 'along', 'with', 'Bejoy', '.', 'One', 'week', 'later', ',', 'Adaikalam', 'and', 'Anbu', 'arrive', 'with', 'their', 'men', 'in', 'the', 'Sassoon', 'Docks', 'in', 'Mumbai', ',', 'and', 'meet', 'up', 'with', 'the', 'gangster', 'affiliated', 'with', 'Sandhanam', 'and', 'oragnize', 'a', 'meeting', 'with', 'their', 'bos', ',', 'Rolex', '.', 'Adaikalam', 'and', 'Anbu', 'reveal', 'Dilli', \"'s\", 'involvement', 'in', 'the', 'Trichy', 'drug', 'ambush', ',', '[', 'a', ']', 'and', 'Sandhanam', \"'s\", 'men', 'reveal', 'Vikram', \"'s\", 'and', 'Amar', \"'s\", 'involvement', 'in', 'the', 'destruction', 'of', 'their', 'drug', 'syndicate', 'and', 'the', 'killing', 'of', 'their', 'leader', '.', 'Anbu', 'informs', 'Rolex', 'that', 'Dilli', 'is', 'hiding', 'in', 'Uttar', 'Pradesh', 'while', 'Sandhanam', \"'s\", 'men', 'inform', 'him', 'that', 'Vikram', \"'s\", 'family', 'are', 'settled', 'abroad', ',', 'shown', 'to', 'be', 'San', 'Francisco', '.', 'Rolex', 'announces', 'a', 'huge', 'sum', 'a', 'a', 'reward', 'for', 'the', 'execution', 'of', 'Amar', ',', 'Dilli', 'and', 'Vikram', \"'s\", 'team', '.', 'However', ',', 'unknown', 'to', 'everyone', 'else', ',', 'Vikram', 'is', 'present', 'at', 'the', 'meeting', 'and', 'walk', 'away', 'with', 'determination', 'after', 'learning', 'about', 'the', 'bounty', 'placed', 'on', 'his', 'team', ',', 'Amar', 'and', 'Dilli', '.']\n"
          ]
        }
      ],
      "source": [
        "# Lemmatization using WordNet Lemmatizer\n",
        "wordnet_lemmatizer = WordNetLemmatizer()\n",
        "lemmatized_words = [wordnet_lemmatizer.lemmatize(word) for word in words]\n",
        "\n",
        "print(\"\\nLemmatized Words:\")\n",
        "print(lemmatized_words)"
      ]
    },
    {
      "cell_type": "code",
      "execution_count": null,
      "metadata": {
        "id": "IP4ruhfxmPWo"
      },
      "outputs": [],
      "source": []
    },
    {
      "cell_type": "code",
      "execution_count": null,
      "metadata": {
        "colab": {
          "base_uri": "https://localhost:8080/"
        },
        "id": "VNgT4hupjTe-",
        "outputId": "91cbae38-01c1-4401-c160-7d3fb445e7ac"
      },
      "outputs": [
        {
          "name": "stdout",
          "output_type": "stream",
          "text": [
            "Stopwords in English:\n",
            "{\"mightn't\", 'ours', 'into', 'so', 'themselves', 'ma', 'himself', 'whom', 'is', 'can', 'he', 'd', 'wasn', 'off', 'down', 'most', 'y', 'doing', 'am', 'during', \"haven't\", 'needn', 'his', \"that'll\", \"shan't\", 'mightn', 'up', 'now', 'wouldn', 'by', 'their', 'yourselves', 'we', 'couldn', \"weren't\", \"isn't\", 'does', 'hers', \"you'd\", 'which', 'if', 'all', 'too', 'aren', 'didn', 'of', 'few', 'shouldn', 'they', 'but', 'have', 'hasn', \"shouldn't\", 'very', \"don't\", 'isn', 'weren', 'just', 'been', 'under', 'had', 'll', 'once', 'm', 'won', 'has', \"she's\", \"won't\", 'more', 'then', 'my', 'having', 'don', 'before', 'where', 'between', 'myself', 's', 'after', 'mustn', 'it', 'over', 'who', 'than', 'because', 'through', 'why', 'itself', 'are', 'yours', 'will', 'about', 'any', 'and', 'ain', 'should', 'theirs', \"mustn't\", 'when', 'hadn', 'her', 'at', 're', \"hadn't\", 'shan', 'herself', 'to', 'above', 't', 'with', 'against', 'in', \"you've\", 'until', 'such', \"you'll\", 'do', 'here', 'were', 'again', 'that', 'these', 'some', 'same', 'a', 'how', 'or', 'only', \"wouldn't\", \"doesn't\", 'doesn', \"you're\", 'on', 'them', 'from', 'each', 'you', 'below', \"should've\", \"didn't\", \"hasn't\", 'for', 'yourself', 'your', 'own', 'what', 'nor', 'further', 'no', 'i', 'not', \"aren't\", \"it's\", 'other', \"wasn't\", \"needn't\", 'as', 'there', 'him', 'this', 'the', 'did', 'both', 'its', 'she', 'me', 'be', \"couldn't\", 'an', 'being', 'o', 'out', 'while', 'those', 've', 'ourselves', 'our', 'haven', 'was'}\n"
          ]
        }
      ],
      "source": [
        "stop_words = set(stopwords.words('english'))\n",
        "\n",
        "print(\"Stopwords in English:\")\n",
        "print(stop_words)"
      ]
    },
    {
      "cell_type": "code",
      "execution_count": null,
      "metadata": {
        "colab": {
          "base_uri": "https://localhost:8080/"
        },
        "id": "kOQP4XASl3ID",
        "outputId": "54c98bef-4dca-466f-99ba-7713d7af66d7"
      },
      "outputs": [
        {
          "name": "stdout",
          "output_type": "stream",
          "text": [
            "\n",
            "Original Text:\n",
            "Amar, the head of a black-ops squad is summoned by Police commissioner Jose to bring justice to a group of masked vigilantes for the murder of Stephen Raj, who was killed following his arrest and subsequent release after being imprisoned for aiding Adaikalam and Anbu in the murder of ACP Prabhajaran and his foster father, Karnan.[a] Amar leads the investigation by digging into Karnan's life, as he finds the murder out of place since Karnan was an ordinary man while the other two were high-ranking NCB officials.  Amar learns of Karnan's recent addiction to alcohol, drugs and prostitutes, while concurrently being overprotective of his infant foster grandson. Whilst investigating, Amar learns of two missing shipping containers of drugs being hunted by Sandhanam, who runs a much bigger syndicate than Adaikalam, named Vetti Vagaiyara. The other two containers were supposed to have been delivered to his cold-blooded smuggler boss, Rolex. The latter had promised to help Sandhanam form his own government if the drugs were delivered; if not Sandhanam and his family would be killed. Amar slowly figures out that all of Karnan's addictions were a ruse to cover up a covert operation he had been running.  Meanwhile, Veerapandian, a PWD officer, assigns a meeting with the gangsters at a theatre, where he reveals that he along with a contractor named Rudra Prathap know the location of the containers as they want to deliver them to Rolex, bypassing Sandhanam. However, the masked vigilantes arrive and kill Veerapandian by slitting his throat. Amar and his team arrive at the scene, having learnt of the events through a tracking chip left by Karnan, and capture one of the vigilantes, Bejoy. Amar interrogates Bejoy who discloses that his family were killed for his role in leading an earlier drugs bust,[a] leaving them to join the vigilantes. Realizing that Rudra Prathap is also one of the vigilantes' next targets, Amar and his team sneak into Rudra Prathap's daughter's wedding ceremony, where Prathap has invited Sandhanam for protection, fearing for his life and family.  The masked men, along with their leader, arrive at the wedding, where the leader threatens Prathap by holding his daughter at knifepoint. The leader drags Prathap and escapes on a bike, leaving the other members to deal with Sandhanam, however he defeats them. Amar chases the leader and confronts him. The leader video calls Sandhanam and reveals himself to be Karnan, who is infact alive and had faked his own death. Karnan kills Prathap by slitting his throat and escapes from the police. Amar reveals to Jose that Karnan is actually Vikram, the former commander of the black-ops squad 1986 pilot batch. After a botched mission in 1991 which led to the squad being branded as terrorists, the government hunted and brutally killed all of the squad members and their families; only Vikram and three other members survived. Amar comes to the conclusion that Jose is Sandhanam's mole within the department and was involved in Prabhajaran's murder. It is revealed that Prabhajaran was captured by Sandhanam with Jose's help. Sandhanam had interrogated Prabhajaran about the containers and upon his refusal to divulge any information, proceeded to kill him. Jose, Veerapandian and Prathap covered up the murder by disguising it as a terrorist attack. Amar orchestrates a bomb blast at Sandhanam's house, which destroys his bungalow and a drug lab in his basement. Jose informs Sandhanam of the bombing just in time and everyone except Sandhanam's brother Elango evacuate from the blast site. Jose reveals Vikram and Amar's identities to Sandhanam.  Later, Vikram arrives at the prison, and frees Bejoy and his team. Sandhanam brutally kills Amar's wife Gayathri, by decapitating her and sends his men to attack Vikram's daughter-in-law and grandson at Prabhajaran's residence. Having already expected this, Vikram rushes to save them, where a member of Vikram's pilot black-ops squad, Tina who was posing as the servant of the house under the name of Valiamma, is killed whilst protecting Vikram's daughter-in-law and grandson. Distraught at his wife's death, Amar joins Vikram's gang to take down Sandhanam and his syndicate. He arrives at Jose's house and kills him after learning of his involvment in Gayathri's murder.  Vikram and his grandson reach Chennai Port where the hidden containers are hidden. Sandhanam learns about the location of the containers and attacks Vikram. Vikram mows down Sandhanam's men with a cannon and an M2 Browning but the remaining members of his black ops squad, Agents Uppiliappan and Lawrence, are killed in the scuffle. Vikram blows up Sandhanam's containers and Sandhanam is killed in the midst. After Gayathri's funeral in Ernakulam, Amar mourns Gayathri's death and with the syndicate destroyed, he vows to continue Vikram's mission by joining his team along with Bejoy.  One week later, Adaikalam and Anbu arrive with their men in the Sassoon Docks in Mumbai, and meet up with the gangsters affiliated with Sandhanam and oragnize a meeting with their boss, Rolex. Adaikalam and Anbu reveal Dilli's involvement in the Trichy drug ambush,[a] and Sandhanam's men reveal Vikram's and Amar's involvement in the destruction of their drug syndicate and the killing of their leader. Anbu informs Rolex that Dilli is hiding in Uttar Pradesh while Sandhanam's men inform him that Vikram's family are settled abroad, shown to be San Francisco. Rolex announces a huge sum as a reward for the execution of Amar, Dilli and Vikram's team. However, unknown to everyone else, Vikram is present at the meeting and walks away with determination after learning about the bounty placed on his team, Amar and Dilli.\n",
            "\n",
            "Text after removing stopwords:\n",
            "Amar , head black-ops squad summoned Police commissioner Jose bring justice group masked vigilantes murder Stephen Raj , killed following arrest subsequent release imprisoned aiding Adaikalam Anbu murder ACP Prabhajaran foster father , Karnan . [ ] Amar leads investigation digging Karnan 's life , finds murder place since Karnan ordinary man two high-ranking NCB officials . Amar learns Karnan 's recent addiction alcohol , drugs prostitutes , concurrently overprotective infant foster grandson . Whilst investigating , Amar learns two missing shipping containers drugs hunted Sandhanam , runs much bigger syndicate Adaikalam , named Vetti Vagaiyara . two containers supposed delivered cold-blooded smuggler boss , Rolex . latter promised help Sandhanam form government drugs delivered ; Sandhanam family would killed . Amar slowly figures Karnan 's addictions ruse cover covert operation running . Meanwhile , Veerapandian , PWD officer , assigns meeting gangsters theatre , reveals along contractor named Rudra Prathap know location containers want deliver Rolex , bypassing Sandhanam . However , masked vigilantes arrive kill Veerapandian slitting throat . Amar team arrive scene , learnt events tracking chip left Karnan , capture one vigilantes , Bejoy . Amar interrogates Bejoy discloses family killed role leading earlier drugs bust , [ ] leaving join vigilantes . Realizing Rudra Prathap also one vigilantes ' next targets , Amar team sneak Rudra Prathap 's daughter 's wedding ceremony , Prathap invited Sandhanam protection , fearing life family . masked men , along leader , arrive wedding , leader threatens Prathap holding daughter knifepoint . leader drags Prathap escapes bike , leaving members deal Sandhanam , however defeats . Amar chases leader confronts . leader video calls Sandhanam reveals Karnan , infact alive faked death . Karnan kills Prathap slitting throat escapes police . Amar reveals Jose Karnan actually Vikram , former commander black-ops squad 1986 pilot batch . botched mission 1991 led squad branded terrorists , government hunted brutally killed squad members families ; Vikram three members survived . Amar comes conclusion Jose Sandhanam 's mole within department involved Prabhajaran 's murder . revealed Prabhajaran captured Sandhanam Jose 's help . Sandhanam interrogated Prabhajaran containers upon refusal divulge information , proceeded kill . Jose , Veerapandian Prathap covered murder disguising terrorist attack . Amar orchestrates bomb blast Sandhanam 's house , destroys bungalow drug lab basement . Jose informs Sandhanam bombing time everyone except Sandhanam 's brother Elango evacuate blast site . Jose reveals Vikram Amar 's identities Sandhanam . Later , Vikram arrives prison , frees Bejoy team . Sandhanam brutally kills Amar 's wife Gayathri , decapitating sends men attack Vikram 's daughter-in-law grandson Prabhajaran 's residence . already expected , Vikram rushes save , member Vikram 's pilot black-ops squad , Tina posing servant house name Valiamma , killed whilst protecting Vikram 's daughter-in-law grandson . Distraught wife 's death , Amar joins Vikram 's gang take Sandhanam syndicate . arrives Jose 's house kills learning involvment Gayathri 's murder . Vikram grandson reach Chennai Port hidden containers hidden . Sandhanam learns location containers attacks Vikram . Vikram mows Sandhanam 's men cannon M2 Browning remaining members black ops squad , Agents Uppiliappan Lawrence , killed scuffle . Vikram blows Sandhanam 's containers Sandhanam killed midst . Gayathri 's funeral Ernakulam , Amar mourns Gayathri 's death syndicate destroyed , vows continue Vikram 's mission joining team along Bejoy . One week later , Adaikalam Anbu arrive men Sassoon Docks Mumbai , meet gangsters affiliated Sandhanam oragnize meeting boss , Rolex . Adaikalam Anbu reveal Dilli 's involvement Trichy drug ambush , [ ] Sandhanam 's men reveal Vikram 's Amar 's involvement destruction drug syndicate killing leader . Anbu informs Rolex Dilli hiding Uttar Pradesh Sandhanam 's men inform Vikram 's family settled abroad , shown San Francisco . Rolex announces huge sum reward execution Amar , Dilli Vikram 's team . However , unknown everyone else , Vikram present meeting walks away determination learning bounty placed team , Amar Dilli .\n"
          ]
        }
      ],
      "source": [
        "filtered_tokens = [word for word in words if word.lower() not in stop_words]\n",
        "filtered_text = ' '.join(filtered_tokens)\n",
        "\n",
        "print(\"\\nOriginal Text:\")\n",
        "print(text)\n",
        "print(\"\\nText after removing stopwords:\")\n",
        "print(filtered_text)"
      ]
    },
    {
      "cell_type": "code",
      "execution_count": null,
      "metadata": {
        "id": "rAEEjUS1l7OX"
      },
      "outputs": [],
      "source": [
        "# prompt: code to write name entity in the text\n",
        "\n",
        "from nltk import word_tokenize, pos_tag, ne_chunk\n",
        "\n",
        "# Tokenize the text\n",
        "tokens = word_tokenize(text)\n",
        "\n",
        "# Perform Part-of-Speech Tagging\n",
        "pos_tags = pos_tag(tokens)\n",
        "\n",
        "# Perform Named Entity Recognition\n",
        "ne_tree = ne_chunk(pos_tags)\n",
        "\n",
        "# Print the Named Entities\n",
        "print(\"\\nNamed Entities:\")\n",
        "for subtree in ne_tree.subtrees():\n",
        "    if subtree.label() in [\"PERSON\", \"ORGANIZATION\", \"LOCATION\"]:\n",
        "        print(subtree)\n"
      ]
    },
    {
      "cell_type": "code",
      "execution_count": null,
      "metadata": {
        "colab": {
          "base_uri": "https://localhost:8080/"
        },
        "id": "EfgK0E-_otMa",
        "outputId": "97c76448-c9bc-4b7d-b4ef-f3cd80dc9835"
      },
      "outputs": [
        {
          "output_type": "stream",
          "name": "stdout",
          "text": [
            "\n",
            "Named Entities:\n",
            "(PERSON Jose/NNP)\n",
            "(PERSON Stephen/NNP Raj/NNP)\n",
            "(PERSON Adaikalam/NNP)\n",
            "(ORGANIZATION ACP/NNP Prabhajaran/NNP)\n",
            "(PERSON Karnan/NNP)\n",
            "(ORGANIZATION Amar/NNP)\n",
            "(PERSON Karnan/NNP)\n",
            "(PERSON Karnan/NNP)\n",
            "(ORGANIZATION NCB/NNP)\n",
            "(PERSON Amar/NNP)\n",
            "(PERSON Karnan/NNP)\n",
            "(PERSON Whilst/NNP)\n",
            "(PERSON Amar/NNP)\n",
            "(PERSON Sandhanam/NNP)\n",
            "(PERSON Adaikalam/NNP)\n",
            "(PERSON Vetti/NNP Vagaiyara/NNP)\n",
            "(PERSON Rolex/NNP)\n",
            "(PERSON Sandhanam/NNP)\n",
            "(PERSON Sandhanam/NNP)\n",
            "(PERSON Amar/NNP)\n",
            "(PERSON Karnan/NNP)\n",
            "(ORGANIZATION PWD/NNP)\n",
            "(PERSON Rudra/NNP Prathap/NNP)\n",
            "(PERSON Sandhanam/NNP)\n",
            "(PERSON Amar/NNP)\n",
            "(PERSON Karnan/NNP)\n",
            "(PERSON Bejoy/NNP)\n",
            "(PERSON Amar/NNP)\n",
            "(PERSON Bejoy/NNP)\n",
            "(PERSON Rudra/NNP Prathap/NNP)\n",
            "(PERSON Amar/NNP)\n",
            "(PERSON Rudra/NNP Prathap/NNP)\n",
            "(PERSON Prathap/NNP)\n",
            "(PERSON Sandhanam/NNP)\n",
            "(PERSON Prathap/NNP)\n",
            "(PERSON Prathap/NNP)\n",
            "(PERSON Sandhanam/NNP)\n",
            "(PERSON Amar/NNP)\n",
            "(PERSON Sandhanam/NNP)\n",
            "(PERSON Karnan/NNP)\n",
            "(PERSON Karnan/NNP)\n",
            "(PERSON Prathap/NNP)\n",
            "(PERSON Amar/NNP)\n",
            "(PERSON Karnan/NNP)\n",
            "(PERSON Vikram/NNP)\n",
            "(PERSON Vikram/NNP)\n",
            "(PERSON Amar/NNP)\n",
            "(PERSON Jose/NNP)\n",
            "(PERSON Sandhanam/NNP)\n",
            "(PERSON Prabhajaran/NNP)\n",
            "(PERSON Sandhanam/NNP)\n",
            "(PERSON Jose/NNP)\n",
            "(PERSON Sandhanam/NNP)\n",
            "(PERSON Prabhajaran/NNP)\n",
            "(PERSON Jose/NNP)\n",
            "(PERSON Prathap/NNP)\n",
            "(PERSON Amar/NNP)\n",
            "(ORGANIZATION Sandhanam/NNP)\n",
            "(PERSON Sandhanam/NNP)\n",
            "(PERSON Sandhanam/NNP)\n",
            "(PERSON Elango/NNP)\n",
            "(PERSON Vikram/NNP)\n",
            "(PERSON Amar/NNP)\n",
            "(PERSON Vikram/NNP)\n",
            "(PERSON Bejoy/NNP)\n",
            "(PERSON Sandhanam/NNP)\n",
            "(PERSON Amar/NNP)\n",
            "(PERSON Gayathri/NNP)\n",
            "(PERSON Vikram/NNP)\n",
            "(PERSON Vikram/NNP)\n",
            "(PERSON Tina/NNP)\n",
            "(PERSON Vikram/NNP)\n",
            "(PERSON Distraught/NNP)\n",
            "(PERSON Amar/NNP)\n",
            "(PERSON Vikram/NNP)\n",
            "(PERSON Sandhanam/NNP)\n",
            "(ORGANIZATION Jose/NNP)\n",
            "(PERSON Vikram/NNP)\n",
            "(PERSON Chennai/NNP Port/NNP)\n",
            "(PERSON Sandhanam/NNP)\n",
            "(PERSON Vikram/NNP)\n",
            "(PERSON Vikram/NNP)\n",
            "(PERSON Sandhanam/NNP)\n",
            "(PERSON Agents/NNP Uppiliappan/NNP)\n",
            "(PERSON Vikram/NNP)\n",
            "(PERSON Sandhanam/NNP)\n",
            "(PERSON Sandhanam/NNP)\n",
            "(PERSON Gayathri/NNP)\n",
            "(PERSON Amar/NNP)\n",
            "(PERSON Gayathri/NNP)\n",
            "(PERSON Vikram/NNP)\n",
            "(PERSON Bejoy/NNP)\n",
            "(PERSON Adaikalam/NNP)\n",
            "(ORGANIZATION Sassoon/NNP Docks/NNP)\n",
            "(PERSON Sandhanam/NNP)\n",
            "(PERSON Rolex/NNP)\n",
            "(PERSON Adaikalam/NNP)\n",
            "(PERSON Dilli/NNP)\n",
            "(ORGANIZATION Trichy/NNP)\n",
            "(PERSON Sandhanam/NNP)\n",
            "(PERSON Vikram/NNP)\n",
            "(PERSON Amar/NNP)\n",
            "(PERSON Anbu/NNP)\n",
            "(PERSON Rolex/NNP)\n",
            "(PERSON Dilli/NNP)\n",
            "(PERSON Sandhanam/NNP)\n",
            "(PERSON Vikram/NNP)\n",
            "(PERSON San/NNP Francisco/NNP)\n",
            "(PERSON Rolex/NNP)\n",
            "(PERSON Dilli/NNP)\n",
            "(PERSON Vikram/NNP)\n",
            "(PERSON Vikram/NNP)\n",
            "(PERSON Amar/NNP)\n",
            "(PERSON Dilli/NNP)\n"
          ]
        }
      ],
      "source": [
        "pos_tags = pos_tag(words)\n",
        "ne_tree = ne_chunk(pos_tags)\n",
        "\n",
        "print(\"\\nNamed Entities:\")\n",
        "for subtree in ne_tree.subtrees():\n",
        "    if subtree.label() in [\"PERSON\", \"ORGANIZATION\", \"LOCATION\"]:\n",
        "        print(subtree)"
      ]
    },
    {
      "cell_type": "code",
      "execution_count": null,
      "metadata": {
        "id": "h8J5wFL-ouZn"
      },
      "outputs": [],
      "source": []
    }
  ],
  "metadata": {
    "colab": {
      "provenance": [],
      "authorship_tag": "ABX9TyMjRpWUpDd/a77Y2c68lANy",
      "include_colab_link": true
    },
    "kernelspec": {
      "display_name": "Python 3",
      "name": "python3"
    },
    "language_info": {
      "name": "python"
    }
  },
  "nbformat": 4,
  "nbformat_minor": 0
}